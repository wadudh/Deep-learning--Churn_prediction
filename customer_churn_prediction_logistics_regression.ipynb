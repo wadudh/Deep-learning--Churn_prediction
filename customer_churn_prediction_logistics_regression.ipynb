{
  "nbformat": 4,
  "nbformat_minor": 0,
  "metadata": {
    "colab": {
      "provenance": [],
      "authorship_tag": "ABX9TyO5Juhsy/iu1O4xj1Xwf4GO",
      "include_colab_link": true
    },
    "kernelspec": {
      "name": "python3",
      "display_name": "Python 3"
    },
    "language_info": {
      "name": "python"
    }
  },
  "cells": [
    {
      "cell_type": "markdown",
      "metadata": {
        "id": "view-in-github",
        "colab_type": "text"
      },
      "source": [
        "<a href=\"https://colab.research.google.com/github/wadudh/Deep-learning--Churn_prediction/blob/main/customer_churn_prediction_logistics_regression.ipynb\" target=\"_parent\"><img src=\"https://colab.research.google.com/assets/colab-badge.svg\" alt=\"Open In Colab\"/></a>"
      ]
    },
    {
      "cell_type": "code",
      "execution_count": 1,
      "metadata": {
        "id": "sQUtabwPO6cu"
      },
      "outputs": [],
      "source": [
        "import pandas as pd\n",
        "import numpy as np\n"
      ]
    },
    {
      "cell_type": "code",
      "source": [
        "url = 'https://raw.githubusercontent.com/wadudh/Deep-learning--Churn_prediction/main/customerchurn.csv'\n",
        "df=pd.read_csv(url)"
      ],
      "metadata": {
        "id": "d92ZNgasUple"
      },
      "execution_count": 2,
      "outputs": []
    },
    {
      "cell_type": "code",
      "source": [
        "df.sample(5)"
      ],
      "metadata": {
        "colab": {
          "base_uri": "https://localhost:8080/",
          "height": 382
        },
        "id": "seydUxZiUyhE",
        "outputId": "910b5e08-02dc-4903-a291-b44c8eb33c44"
      },
      "execution_count": 3,
      "outputs": [
        {
          "output_type": "execute_result",
          "data": {
            "text/plain": [
              "      customerID gender  SeniorCitizen Partner Dependents  tenure  \\\n",
              "4701  5956-YHHRX   Male              1      No         No      21   \n",
              "5127  8199-ZLLSA   Male              0      No         No      67   \n",
              "1988  3424-NMNBO   Male              1     Yes         No      58   \n",
              "4805  2207-RYYRL   Male              0     Yes        Yes      52   \n",
              "5506  8048-DSDFQ   Male              0      No         No       1   \n",
              "\n",
              "     PhoneService MultipleLines InternetService       OnlineSecurity  ...  \\\n",
              "4701          Yes           Yes     Fiber optic                   No  ...   \n",
              "5127          Yes           Yes     Fiber optic                  Yes  ...   \n",
              "1988          Yes           Yes     Fiber optic                  Yes  ...   \n",
              "4805          Yes           Yes              No  No internet service  ...   \n",
              "5506          Yes            No              No  No internet service  ...   \n",
              "\n",
              "         DeviceProtection          TechSupport          StreamingTV  \\\n",
              "4701                  Yes                   No                  Yes   \n",
              "5127                  Yes                  Yes                  Yes   \n",
              "1988                  Yes                   No                  Yes   \n",
              "4805  No internet service  No internet service  No internet service   \n",
              "5506  No internet service  No internet service  No internet service   \n",
              "\n",
              "          StreamingMovies        Contract PaperlessBilling  \\\n",
              "4701                  Yes  Month-to-month              Yes   \n",
              "5127                  Yes        One year              Yes   \n",
              "1988                  Yes        One year              Yes   \n",
              "4805  No internet service        Two year               No   \n",
              "5506  No internet service  Month-to-month               No   \n",
              "\n",
              "                  PaymentMethod MonthlyCharges  TotalCharges Churn  \n",
              "4701           Electronic check         104.35       2271.85    No  \n",
              "5127  Bank transfer (automatic)         118.35       7804.15   Yes  \n",
              "1988           Electronic check         108.85       6287.25   Yes  \n",
              "4805               Mailed check          24.55       1331.05    No  \n",
              "5506               Mailed check          20.20          20.2    No  \n",
              "\n",
              "[5 rows x 21 columns]"
            ],
            "text/html": [
              "\n",
              "  <div id=\"df-c891b2a9-f28f-48e3-af43-270d9c9f6c75\">\n",
              "    <div class=\"colab-df-container\">\n",
              "      <div>\n",
              "<style scoped>\n",
              "    .dataframe tbody tr th:only-of-type {\n",
              "        vertical-align: middle;\n",
              "    }\n",
              "\n",
              "    .dataframe tbody tr th {\n",
              "        vertical-align: top;\n",
              "    }\n",
              "\n",
              "    .dataframe thead th {\n",
              "        text-align: right;\n",
              "    }\n",
              "</style>\n",
              "<table border=\"1\" class=\"dataframe\">\n",
              "  <thead>\n",
              "    <tr style=\"text-align: right;\">\n",
              "      <th></th>\n",
              "      <th>customerID</th>\n",
              "      <th>gender</th>\n",
              "      <th>SeniorCitizen</th>\n",
              "      <th>Partner</th>\n",
              "      <th>Dependents</th>\n",
              "      <th>tenure</th>\n",
              "      <th>PhoneService</th>\n",
              "      <th>MultipleLines</th>\n",
              "      <th>InternetService</th>\n",
              "      <th>OnlineSecurity</th>\n",
              "      <th>...</th>\n",
              "      <th>DeviceProtection</th>\n",
              "      <th>TechSupport</th>\n",
              "      <th>StreamingTV</th>\n",
              "      <th>StreamingMovies</th>\n",
              "      <th>Contract</th>\n",
              "      <th>PaperlessBilling</th>\n",
              "      <th>PaymentMethod</th>\n",
              "      <th>MonthlyCharges</th>\n",
              "      <th>TotalCharges</th>\n",
              "      <th>Churn</th>\n",
              "    </tr>\n",
              "  </thead>\n",
              "  <tbody>\n",
              "    <tr>\n",
              "      <th>4701</th>\n",
              "      <td>5956-YHHRX</td>\n",
              "      <td>Male</td>\n",
              "      <td>1</td>\n",
              "      <td>No</td>\n",
              "      <td>No</td>\n",
              "      <td>21</td>\n",
              "      <td>Yes</td>\n",
              "      <td>Yes</td>\n",
              "      <td>Fiber optic</td>\n",
              "      <td>No</td>\n",
              "      <td>...</td>\n",
              "      <td>Yes</td>\n",
              "      <td>No</td>\n",
              "      <td>Yes</td>\n",
              "      <td>Yes</td>\n",
              "      <td>Month-to-month</td>\n",
              "      <td>Yes</td>\n",
              "      <td>Electronic check</td>\n",
              "      <td>104.35</td>\n",
              "      <td>2271.85</td>\n",
              "      <td>No</td>\n",
              "    </tr>\n",
              "    <tr>\n",
              "      <th>5127</th>\n",
              "      <td>8199-ZLLSA</td>\n",
              "      <td>Male</td>\n",
              "      <td>0</td>\n",
              "      <td>No</td>\n",
              "      <td>No</td>\n",
              "      <td>67</td>\n",
              "      <td>Yes</td>\n",
              "      <td>Yes</td>\n",
              "      <td>Fiber optic</td>\n",
              "      <td>Yes</td>\n",
              "      <td>...</td>\n",
              "      <td>Yes</td>\n",
              "      <td>Yes</td>\n",
              "      <td>Yes</td>\n",
              "      <td>Yes</td>\n",
              "      <td>One year</td>\n",
              "      <td>Yes</td>\n",
              "      <td>Bank transfer (automatic)</td>\n",
              "      <td>118.35</td>\n",
              "      <td>7804.15</td>\n",
              "      <td>Yes</td>\n",
              "    </tr>\n",
              "    <tr>\n",
              "      <th>1988</th>\n",
              "      <td>3424-NMNBO</td>\n",
              "      <td>Male</td>\n",
              "      <td>1</td>\n",
              "      <td>Yes</td>\n",
              "      <td>No</td>\n",
              "      <td>58</td>\n",
              "      <td>Yes</td>\n",
              "      <td>Yes</td>\n",
              "      <td>Fiber optic</td>\n",
              "      <td>Yes</td>\n",
              "      <td>...</td>\n",
              "      <td>Yes</td>\n",
              "      <td>No</td>\n",
              "      <td>Yes</td>\n",
              "      <td>Yes</td>\n",
              "      <td>One year</td>\n",
              "      <td>Yes</td>\n",
              "      <td>Electronic check</td>\n",
              "      <td>108.85</td>\n",
              "      <td>6287.25</td>\n",
              "      <td>Yes</td>\n",
              "    </tr>\n",
              "    <tr>\n",
              "      <th>4805</th>\n",
              "      <td>2207-RYYRL</td>\n",
              "      <td>Male</td>\n",
              "      <td>0</td>\n",
              "      <td>Yes</td>\n",
              "      <td>Yes</td>\n",
              "      <td>52</td>\n",
              "      <td>Yes</td>\n",
              "      <td>Yes</td>\n",
              "      <td>No</td>\n",
              "      <td>No internet service</td>\n",
              "      <td>...</td>\n",
              "      <td>No internet service</td>\n",
              "      <td>No internet service</td>\n",
              "      <td>No internet service</td>\n",
              "      <td>No internet service</td>\n",
              "      <td>Two year</td>\n",
              "      <td>No</td>\n",
              "      <td>Mailed check</td>\n",
              "      <td>24.55</td>\n",
              "      <td>1331.05</td>\n",
              "      <td>No</td>\n",
              "    </tr>\n",
              "    <tr>\n",
              "      <th>5506</th>\n",
              "      <td>8048-DSDFQ</td>\n",
              "      <td>Male</td>\n",
              "      <td>0</td>\n",
              "      <td>No</td>\n",
              "      <td>No</td>\n",
              "      <td>1</td>\n",
              "      <td>Yes</td>\n",
              "      <td>No</td>\n",
              "      <td>No</td>\n",
              "      <td>No internet service</td>\n",
              "      <td>...</td>\n",
              "      <td>No internet service</td>\n",
              "      <td>No internet service</td>\n",
              "      <td>No internet service</td>\n",
              "      <td>No internet service</td>\n",
              "      <td>Month-to-month</td>\n",
              "      <td>No</td>\n",
              "      <td>Mailed check</td>\n",
              "      <td>20.20</td>\n",
              "      <td>20.2</td>\n",
              "      <td>No</td>\n",
              "    </tr>\n",
              "  </tbody>\n",
              "</table>\n",
              "<p>5 rows × 21 columns</p>\n",
              "</div>\n",
              "      <button class=\"colab-df-convert\" onclick=\"convertToInteractive('df-c891b2a9-f28f-48e3-af43-270d9c9f6c75')\"\n",
              "              title=\"Convert this dataframe to an interactive table.\"\n",
              "              style=\"display:none;\">\n",
              "        \n",
              "  <svg xmlns=\"http://www.w3.org/2000/svg\" height=\"24px\"viewBox=\"0 0 24 24\"\n",
              "       width=\"24px\">\n",
              "    <path d=\"M0 0h24v24H0V0z\" fill=\"none\"/>\n",
              "    <path d=\"M18.56 5.44l.94 2.06.94-2.06 2.06-.94-2.06-.94-.94-2.06-.94 2.06-2.06.94zm-11 1L8.5 8.5l.94-2.06 2.06-.94-2.06-.94L8.5 2.5l-.94 2.06-2.06.94zm10 10l.94 2.06.94-2.06 2.06-.94-2.06-.94-.94-2.06-.94 2.06-2.06.94z\"/><path d=\"M17.41 7.96l-1.37-1.37c-.4-.4-.92-.59-1.43-.59-.52 0-1.04.2-1.43.59L10.3 9.45l-7.72 7.72c-.78.78-.78 2.05 0 2.83L4 21.41c.39.39.9.59 1.41.59.51 0 1.02-.2 1.41-.59l7.78-7.78 2.81-2.81c.8-.78.8-2.07 0-2.86zM5.41 20L4 18.59l7.72-7.72 1.47 1.35L5.41 20z\"/>\n",
              "  </svg>\n",
              "      </button>\n",
              "      \n",
              "  <style>\n",
              "    .colab-df-container {\n",
              "      display:flex;\n",
              "      flex-wrap:wrap;\n",
              "      gap: 12px;\n",
              "    }\n",
              "\n",
              "    .colab-df-convert {\n",
              "      background-color: #E8F0FE;\n",
              "      border: none;\n",
              "      border-radius: 50%;\n",
              "      cursor: pointer;\n",
              "      display: none;\n",
              "      fill: #1967D2;\n",
              "      height: 32px;\n",
              "      padding: 0 0 0 0;\n",
              "      width: 32px;\n",
              "    }\n",
              "\n",
              "    .colab-df-convert:hover {\n",
              "      background-color: #E2EBFA;\n",
              "      box-shadow: 0px 1px 2px rgba(60, 64, 67, 0.3), 0px 1px 3px 1px rgba(60, 64, 67, 0.15);\n",
              "      fill: #174EA6;\n",
              "    }\n",
              "\n",
              "    [theme=dark] .colab-df-convert {\n",
              "      background-color: #3B4455;\n",
              "      fill: #D2E3FC;\n",
              "    }\n",
              "\n",
              "    [theme=dark] .colab-df-convert:hover {\n",
              "      background-color: #434B5C;\n",
              "      box-shadow: 0px 1px 3px 1px rgba(0, 0, 0, 0.15);\n",
              "      filter: drop-shadow(0px 1px 2px rgba(0, 0, 0, 0.3));\n",
              "      fill: #FFFFFF;\n",
              "    }\n",
              "  </style>\n",
              "\n",
              "      <script>\n",
              "        const buttonEl =\n",
              "          document.querySelector('#df-c891b2a9-f28f-48e3-af43-270d9c9f6c75 button.colab-df-convert');\n",
              "        buttonEl.style.display =\n",
              "          google.colab.kernel.accessAllowed ? 'block' : 'none';\n",
              "\n",
              "        async function convertToInteractive(key) {\n",
              "          const element = document.querySelector('#df-c891b2a9-f28f-48e3-af43-270d9c9f6c75');\n",
              "          const dataTable =\n",
              "            await google.colab.kernel.invokeFunction('convertToInteractive',\n",
              "                                                     [key], {});\n",
              "          if (!dataTable) return;\n",
              "\n",
              "          const docLinkHtml = 'Like what you see? Visit the ' +\n",
              "            '<a target=\"_blank\" href=https://colab.research.google.com/notebooks/data_table.ipynb>data table notebook</a>'\n",
              "            + ' to learn more about interactive tables.';\n",
              "          element.innerHTML = '';\n",
              "          dataTable['output_type'] = 'display_data';\n",
              "          await google.colab.output.renderOutput(dataTable, element);\n",
              "          const docLink = document.createElement('div');\n",
              "          docLink.innerHTML = docLinkHtml;\n",
              "          element.appendChild(docLink);\n",
              "        }\n",
              "      </script>\n",
              "    </div>\n",
              "  </div>\n",
              "  "
            ]
          },
          "metadata": {},
          "execution_count": 3
        }
      ]
    },
    {
      "cell_type": "code",
      "source": [
        "df = df.drop('customerID',axis=1)"
      ],
      "metadata": {
        "id": "_fDwTekAU0tD"
      },
      "execution_count": 5,
      "outputs": []
    },
    {
      "cell_type": "code",
      "source": [
        "df.dtypes"
      ],
      "metadata": {
        "colab": {
          "base_uri": "https://localhost:8080/"
        },
        "id": "M2lAAz0dVGpG",
        "outputId": "e027c6ff-f16c-4890-9e2e-bcd2cc39d0d7"
      },
      "execution_count": 7,
      "outputs": [
        {
          "output_type": "execute_result",
          "data": {
            "text/plain": [
              "gender               object\n",
              "SeniorCitizen         int64\n",
              "Partner              object\n",
              "Dependents           object\n",
              "tenure                int64\n",
              "PhoneService         object\n",
              "MultipleLines        object\n",
              "InternetService      object\n",
              "OnlineSecurity       object\n",
              "OnlineBackup         object\n",
              "DeviceProtection     object\n",
              "TechSupport          object\n",
              "StreamingTV          object\n",
              "StreamingMovies      object\n",
              "Contract             object\n",
              "PaperlessBilling     object\n",
              "PaymentMethod        object\n",
              "MonthlyCharges      float64\n",
              "TotalCharges         object\n",
              "Churn                object\n",
              "dtype: object"
            ]
          },
          "metadata": {},
          "execution_count": 7
        }
      ]
    },
    {
      "cell_type": "code",
      "source": [
        "pd.to_numeric(df.TotalCharges,errors='coerce').isnull()"
      ],
      "metadata": {
        "colab": {
          "base_uri": "https://localhost:8080/"
        },
        "id": "SYB8pjYkVGrq",
        "outputId": "e82cf2bc-2afe-486d-ee6f-6d8984d8a0cf"
      },
      "execution_count": 16,
      "outputs": [
        {
          "output_type": "execute_result",
          "data": {
            "text/plain": [
              "11"
            ]
          },
          "metadata": {},
          "execution_count": 16
        }
      ]
    },
    {
      "cell_type": "code",
      "source": [
        "df = df[df.TotalCharges!=' ']"
      ],
      "metadata": {
        "id": "Dw501KPoWQK2"
      },
      "execution_count": 18,
      "outputs": []
    },
    {
      "cell_type": "code",
      "source": [
        "df['TotalCharges']=df.TotalCharges.astype(float)"
      ],
      "metadata": {
        "colab": {
          "base_uri": "https://localhost:8080/"
        },
        "id": "QAEQj6Q6WefA",
        "outputId": "a847aae0-7608-4a7c-86ff-0fe7b92c99e7"
      },
      "execution_count": 21,
      "outputs": [
        {
          "output_type": "stream",
          "name": "stderr",
          "text": [
            "<ipython-input-21-6e7e8a1167e0>:1: SettingWithCopyWarning: \n",
            "A value is trying to be set on a copy of a slice from a DataFrame.\n",
            "Try using .loc[row_indexer,col_indexer] = value instead\n",
            "\n",
            "See the caveats in the documentation: https://pandas.pydata.org/pandas-docs/stable/user_guide/indexing.html#returning-a-view-versus-a-copy\n",
            "  df['TotalCharges']=df.TotalCharges.astype(float)\n"
          ]
        }
      ]
    },
    {
      "cell_type": "code",
      "source": [
        "df.dtypes"
      ],
      "metadata": {
        "colab": {
          "base_uri": "https://localhost:8080/"
        },
        "id": "HafDUFSoWp6t",
        "outputId": "b0c5463c-6bb7-48a3-ecf6-7f8cf0508965"
      },
      "execution_count": 22,
      "outputs": [
        {
          "output_type": "execute_result",
          "data": {
            "text/plain": [
              "gender               object\n",
              "SeniorCitizen         int64\n",
              "Partner              object\n",
              "Dependents           object\n",
              "tenure                int64\n",
              "PhoneService         object\n",
              "MultipleLines        object\n",
              "InternetService      object\n",
              "OnlineSecurity       object\n",
              "OnlineBackup         object\n",
              "DeviceProtection     object\n",
              "TechSupport          object\n",
              "StreamingTV          object\n",
              "StreamingMovies      object\n",
              "Contract             object\n",
              "PaperlessBilling     object\n",
              "PaymentMethod        object\n",
              "MonthlyCharges      float64\n",
              "TotalCharges        float64\n",
              "Churn                object\n",
              "dtype: object"
            ]
          },
          "metadata": {},
          "execution_count": 22
        }
      ]
    },
    {
      "cell_type": "code",
      "source": [
        "for column in df:\n",
        "  print(f'{column}:{df[column].unique()}')"
      ],
      "metadata": {
        "colab": {
          "base_uri": "https://localhost:8080/"
        },
        "id": "NqNLG5qiWskL",
        "outputId": "cae5afea-d6af-465c-cfa0-306d7818199d"
      },
      "execution_count": 25,
      "outputs": [
        {
          "output_type": "stream",
          "name": "stdout",
          "text": [
            "gender:['Female' 'Male']\n",
            "SeniorCitizen:[0 1]\n",
            "Partner:['Yes' 'No']\n",
            "Dependents:['No' 'Yes']\n",
            "tenure:[ 1 34  2 45  8 22 10 28 62 13 16 58 49 25 69 52 71 21 12 30 47 72 17 27\n",
            "  5 46 11 70 63 43 15 60 18 66  9  3 31 50 64 56  7 42 35 48 29 65 38 68\n",
            " 32 55 37 36 41  6  4 33 67 23 57 61 14 20 53 40 59 24 44 19 54 51 26 39]\n",
            "PhoneService:['No' 'Yes']\n",
            "MultipleLines:['No phone service' 'No' 'Yes']\n",
            "InternetService:['DSL' 'Fiber optic' 'No']\n",
            "OnlineSecurity:['No' 'Yes' 'No internet service']\n",
            "OnlineBackup:['Yes' 'No' 'No internet service']\n",
            "DeviceProtection:['No' 'Yes' 'No internet service']\n",
            "TechSupport:['No' 'Yes' 'No internet service']\n",
            "StreamingTV:['No' 'Yes' 'No internet service']\n",
            "StreamingMovies:['No' 'Yes' 'No internet service']\n",
            "Contract:['Month-to-month' 'One year' 'Two year']\n",
            "PaperlessBilling:['Yes' 'No']\n",
            "PaymentMethod:['Electronic check' 'Mailed check' 'Bank transfer (automatic)'\n",
            " 'Credit card (automatic)']\n",
            "MonthlyCharges:[29.85 56.95 53.85 ... 63.1  44.2  78.7 ]\n",
            "TotalCharges:[  29.85 1889.5   108.15 ...  346.45  306.6  6844.5 ]\n",
            "Churn:['No' 'Yes']\n"
          ]
        }
      ]
    },
    {
      "cell_type": "code",
      "source": [
        "df.replace('No internet service','No',inplace=True)\n",
        "df.replace('No phone service','No',inplace=True)\n"
      ],
      "metadata": {
        "id": "3WexewCmXJG9"
      },
      "execution_count": 27,
      "outputs": []
    },
    {
      "cell_type": "code",
      "source": [
        "for column in df:\n",
        "  print(f'{column}:{df[column].unique()}')"
      ],
      "metadata": {
        "colab": {
          "base_uri": "https://localhost:8080/"
        },
        "id": "4570LbcMXe8C",
        "outputId": "2c0aa691-fbb2-41f8-c30a-9f5fe8757731"
      },
      "execution_count": 28,
      "outputs": [
        {
          "output_type": "stream",
          "name": "stdout",
          "text": [
            "gender:['Female' 'Male']\n",
            "SeniorCitizen:[0 1]\n",
            "Partner:['Yes' 'No']\n",
            "Dependents:['No' 'Yes']\n",
            "tenure:[ 1 34  2 45  8 22 10 28 62 13 16 58 49 25 69 52 71 21 12 30 47 72 17 27\n",
            "  5 46 11 70 63 43 15 60 18 66  9  3 31 50 64 56  7 42 35 48 29 65 38 68\n",
            " 32 55 37 36 41  6  4 33 67 23 57 61 14 20 53 40 59 24 44 19 54 51 26 39]\n",
            "PhoneService:['No' 'Yes']\n",
            "MultipleLines:['No' 'Yes']\n",
            "InternetService:['DSL' 'Fiber optic' 'No']\n",
            "OnlineSecurity:['No' 'Yes']\n",
            "OnlineBackup:['Yes' 'No']\n",
            "DeviceProtection:['No' 'Yes']\n",
            "TechSupport:['No' 'Yes']\n",
            "StreamingTV:['No' 'Yes']\n",
            "StreamingMovies:['No' 'Yes']\n",
            "Contract:['Month-to-month' 'One year' 'Two year']\n",
            "PaperlessBilling:['Yes' 'No']\n",
            "PaymentMethod:['Electronic check' 'Mailed check' 'Bank transfer (automatic)'\n",
            " 'Credit card (automatic)']\n",
            "MonthlyCharges:[29.85 56.95 53.85 ... 63.1  44.2  78.7 ]\n",
            "TotalCharges:[  29.85 1889.5   108.15 ...  346.45  306.6  6844.5 ]\n",
            "Churn:['No' 'Yes']\n"
          ]
        }
      ]
    },
    {
      "cell_type": "code",
      "source": [
        "df.replace({'Yes':1,'No':0},inplace=True)"
      ],
      "metadata": {
        "colab": {
          "base_uri": "https://localhost:8080/"
        },
        "id": "dYMV7inFXe-P",
        "outputId": "a63f22b6-69c1-4f66-e852-1d7f3b04dbbd"
      },
      "execution_count": 29,
      "outputs": [
        {
          "output_type": "stream",
          "name": "stderr",
          "text": [
            "/usr/local/lib/python3.8/dist-packages/pandas/core/frame.py:5238: SettingWithCopyWarning: \n",
            "A value is trying to be set on a copy of a slice from a DataFrame\n",
            "\n",
            "See the caveats in the documentation: https://pandas.pydata.org/pandas-docs/stable/user_guide/indexing.html#returning-a-view-versus-a-copy\n",
            "  return super().replace(\n"
          ]
        }
      ]
    },
    {
      "cell_type": "code",
      "source": [
        "for column in df:\n",
        "  print(f'{column}:{df[column].unique()}')"
      ],
      "metadata": {
        "colab": {
          "base_uri": "https://localhost:8080/"
        },
        "id": "2M_hdTxDXfCp",
        "outputId": "e7967453-14b5-4993-bcd4-a2b0a642c90e"
      },
      "execution_count": 30,
      "outputs": [
        {
          "output_type": "stream",
          "name": "stdout",
          "text": [
            "gender:['Female' 'Male']\n",
            "SeniorCitizen:[0 1]\n",
            "Partner:[1 0]\n",
            "Dependents:[0 1]\n",
            "tenure:[ 1 34  2 45  8 22 10 28 62 13 16 58 49 25 69 52 71 21 12 30 47 72 17 27\n",
            "  5 46 11 70 63 43 15 60 18 66  9  3 31 50 64 56  7 42 35 48 29 65 38 68\n",
            " 32 55 37 36 41  6  4 33 67 23 57 61 14 20 53 40 59 24 44 19 54 51 26 39]\n",
            "PhoneService:[0 1]\n",
            "MultipleLines:[0 1]\n",
            "InternetService:['DSL' 'Fiber optic' 0]\n",
            "OnlineSecurity:[0 1]\n",
            "OnlineBackup:[1 0]\n",
            "DeviceProtection:[0 1]\n",
            "TechSupport:[0 1]\n",
            "StreamingTV:[0 1]\n",
            "StreamingMovies:[0 1]\n",
            "Contract:['Month-to-month' 'One year' 'Two year']\n",
            "PaperlessBilling:[1 0]\n",
            "PaymentMethod:['Electronic check' 'Mailed check' 'Bank transfer (automatic)'\n",
            " 'Credit card (automatic)']\n",
            "MonthlyCharges:[29.85 56.95 53.85 ... 63.1  44.2  78.7 ]\n",
            "TotalCharges:[  29.85 1889.5   108.15 ...  346.45  306.6  6844.5 ]\n",
            "Churn:[0 1]\n"
          ]
        }
      ]
    },
    {
      "cell_type": "code",
      "source": [
        "cols_to_scale = ['tenure','MonthlyCharges','MonthlyCharges']\n",
        "\n",
        "\n",
        "df.gender.replace({'Female':1,'Male':0},inplace = True)"
      ],
      "metadata": {
        "colab": {
          "base_uri": "https://localhost:8080/"
        },
        "id": "n3T_jx9AX3z8",
        "outputId": "d814c469-1bbc-407f-baee-4c269d7c0422"
      },
      "execution_count": 32,
      "outputs": [
        {
          "output_type": "stream",
          "name": "stderr",
          "text": [
            "/usr/local/lib/python3.8/dist-packages/pandas/core/generic.py:6619: SettingWithCopyWarning: \n",
            "A value is trying to be set on a copy of a slice from a DataFrame\n",
            "\n",
            "See the caveats in the documentation: https://pandas.pydata.org/pandas-docs/stable/user_guide/indexing.html#returning-a-view-versus-a-copy\n",
            "  return self._update_inplace(result)\n"
          ]
        }
      ]
    },
    {
      "cell_type": "code",
      "source": [
        "df2 =pd.get_dummies(df,columns=['PaymentMethod','Contract','InternetService'])"
      ],
      "metadata": {
        "id": "V2fZcL7XX36_"
      },
      "execution_count": 35,
      "outputs": []
    },
    {
      "cell_type": "code",
      "source": [
        "from sklearn.preprocessing import MinMaxScaler\n",
        "\n",
        "sc =MinMaxScaler()\n",
        "df2[cols_to_scale]=sc.fit_transform(df2[cols_to_scale])\n",
        "\n"
      ],
      "metadata": {
        "id": "QrHbFlDoZEHv"
      },
      "execution_count": 36,
      "outputs": []
    },
    {
      "cell_type": "code",
      "source": [
        "for column in df2:\n",
        "  print(f'{column}:{df2[column].unique()}')"
      ],
      "metadata": {
        "colab": {
          "base_uri": "https://localhost:8080/"
        },
        "id": "SXHlxod2ZcFl",
        "outputId": "d278334d-3762-4091-b670-d8d4e4d7a893"
      },
      "execution_count": 39,
      "outputs": [
        {
          "output_type": "stream",
          "name": "stdout",
          "text": [
            "gender:[1 0]\n",
            "SeniorCitizen:[0 1]\n",
            "Partner:[1 0]\n",
            "Dependents:[0 1]\n",
            "tenure:[0.         0.46478873 0.01408451 0.61971831 0.09859155 0.29577465\n",
            " 0.12676056 0.38028169 0.85915493 0.16901408 0.21126761 0.8028169\n",
            " 0.67605634 0.33802817 0.95774648 0.71830986 0.98591549 0.28169014\n",
            " 0.15492958 0.4084507  0.64788732 1.         0.22535211 0.36619718\n",
            " 0.05633803 0.63380282 0.14084507 0.97183099 0.87323944 0.5915493\n",
            " 0.1971831  0.83098592 0.23943662 0.91549296 0.11267606 0.02816901\n",
            " 0.42253521 0.69014085 0.88732394 0.77464789 0.08450704 0.57746479\n",
            " 0.47887324 0.66197183 0.3943662  0.90140845 0.52112676 0.94366197\n",
            " 0.43661972 0.76056338 0.50704225 0.49295775 0.56338028 0.07042254\n",
            " 0.04225352 0.45070423 0.92957746 0.30985915 0.78873239 0.84507042\n",
            " 0.18309859 0.26760563 0.73239437 0.54929577 0.81690141 0.32394366\n",
            " 0.6056338  0.25352113 0.74647887 0.70422535 0.35211268 0.53521127]\n",
            "PhoneService:[0 1]\n",
            "MultipleLines:[0 1]\n",
            "OnlineSecurity:[0 1]\n",
            "OnlineBackup:[1 0]\n",
            "DeviceProtection:[0 1]\n",
            "TechSupport:[0 1]\n",
            "StreamingTV:[0 1]\n",
            "StreamingMovies:[0 1]\n",
            "PaperlessBilling:[1 0]\n",
            "MonthlyCharges:[0.11542289 0.38507463 0.35422886 ... 0.44626866 0.25820896 0.60149254]\n",
            "TotalCharges:[  29.85 1889.5   108.15 ...  346.45  306.6  6844.5 ]\n",
            "Churn:[0 1]\n",
            "PaymentMethod_Bank transfer (automatic):[0 1]\n",
            "PaymentMethod_Credit card (automatic):[0 1]\n",
            "PaymentMethod_Electronic check:[1 0]\n",
            "PaymentMethod_Mailed check:[0 1]\n",
            "Contract_Month-to-month:[1 0]\n",
            "Contract_One year:[0 1]\n",
            "Contract_Two year:[0 1]\n",
            "InternetService_0:[0 1]\n",
            "InternetService_DSL:[1 0]\n",
            "InternetService_Fiber optic:[0 1]\n"
          ]
        }
      ]
    },
    {
      "cell_type": "code",
      "source": [],
      "metadata": {
        "id": "PQ8zOLA5ZcHh"
      },
      "execution_count": null,
      "outputs": []
    },
    {
      "cell_type": "markdown",
      "source": [
        "Train Test Split"
      ],
      "metadata": {
        "id": "Af3eLyoKZpvK"
      }
    },
    {
      "cell_type": "code",
      "source": [
        "x= df2.drop('Churn',axis =1)\n",
        "y=df2['Churn']\n",
        "\n",
        "from sklearn.model_selection import train_test_split\n",
        "x_train,x_test,y_train,y_test = train_test_split(x,y,test_size=.2,random_state=5,stratify =y)\n",
        "\n",
        "y_train.value_counts()"
      ],
      "metadata": {
        "colab": {
          "base_uri": "https://localhost:8080/"
        },
        "id": "vlDLyZTlZsb1",
        "outputId": "30c8b604-0291-4318-c8dd-b3d8057b6a30"
      },
      "execution_count": 46,
      "outputs": [
        {
          "output_type": "execute_result",
          "data": {
            "text/plain": [
              "0    4130\n",
              "1    1495\n",
              "Name: Churn, dtype: int64"
            ]
          },
          "metadata": {},
          "execution_count": 46
        }
      ]
    },
    {
      "cell_type": "code",
      "source": [
        "from sklearn.linear_model import LogisticRegression\n",
        "from sklearn.metrics import classification_report"
      ],
      "metadata": {
        "id": "v81aXtAwapDv"
      },
      "execution_count": 54,
      "outputs": []
    },
    {
      "cell_type": "code",
      "source": [
        "def log_reg(x_train,y_train,x_test,y_test):\n",
        "  model = LogisticRegression()\n",
        "  model.fit(x_train,y_train)\n",
        "  acc=model.score(x_test,y_test)\n",
        "  print(\"Accuracy: \",acc, \"\\n\")\n",
        "  y_pred =model.predict(x_test)\n",
        "  cl = classification_report(y_test,y_pred)\n",
        "  print(cl)\n",
        "\n",
        "log_reg(x_train,y_train,x_test,y_test)\n"
      ],
      "metadata": {
        "colab": {
          "base_uri": "https://localhost:8080/"
        },
        "id": "AIVGXLEDapRU",
        "outputId": "55cc55bf-a2ab-470e-b6d2-a6e71d8171f4"
      },
      "execution_count": 59,
      "outputs": [
        {
          "output_type": "stream",
          "name": "stdout",
          "text": [
            "Accuracy:  0.7846481876332623 \n",
            "\n",
            "              precision    recall  f1-score   support\n",
            "\n",
            "           0       0.83      0.89      0.86      1033\n",
            "           1       0.62      0.50      0.55       374\n",
            "\n",
            "    accuracy                           0.78      1407\n",
            "   macro avg       0.72      0.69      0.71      1407\n",
            "weighted avg       0.77      0.78      0.78      1407\n",
            "\n"
          ]
        },
        {
          "output_type": "stream",
          "name": "stderr",
          "text": [
            "/usr/local/lib/python3.8/dist-packages/sklearn/linear_model/_logistic.py:814: ConvergenceWarning: lbfgs failed to converge (status=1):\n",
            "STOP: TOTAL NO. of ITERATIONS REACHED LIMIT.\n",
            "\n",
            "Increase the number of iterations (max_iter) or scale the data as shown in:\n",
            "    https://scikit-learn.org/stable/modules/preprocessing.html\n",
            "Please also refer to the documentation for alternative solver options:\n",
            "    https://scikit-learn.org/stable/modules/linear_model.html#logistic-regression\n",
            "  n_iter_i = _check_optimize_result(\n"
          ]
        }
      ]
    },
    {
      "cell_type": "markdown",
      "source": [
        "***Undersampling***\n"
      ],
      "metadata": {
        "id": "WQwOltk1kJv8"
      }
    },
    {
      "cell_type": "code",
      "source": [
        "class_0,class_1= df2.Churn.value_counts()\n",
        "\n",
        "df2_class_0 = df2[df2['Churn']==0]\n",
        "df2_class_1 = df2[df2['Churn']==1]\n",
        "\n",
        "class_1"
      ],
      "metadata": {
        "colab": {
          "base_uri": "https://localhost:8080/"
        },
        "id": "QpX-VXZ2kMEh",
        "outputId": "cca28620-e493-4fb0-d66c-5f8ed70650a2"
      },
      "execution_count": 67,
      "outputs": [
        {
          "output_type": "execute_result",
          "data": {
            "text/plain": [
              "1869"
            ]
          },
          "metadata": {},
          "execution_count": 67
        }
      ]
    },
    {
      "cell_type": "code",
      "source": [
        "df_class0_under = df2_class_0.sample(class_1)\n",
        "df2_under = pd.concat([df_class0_under,df2_class_1],axis=0)\n",
        "df2_under.Churn.value_counts()"
      ],
      "metadata": {
        "colab": {
          "base_uri": "https://localhost:8080/"
        },
        "id": "RtfJ4PlVlEhb",
        "outputId": "25b59d03-a6aa-4525-b61a-c779731fe451"
      },
      "execution_count": 70,
      "outputs": [
        {
          "output_type": "execute_result",
          "data": {
            "text/plain": [
              "0    1869\n",
              "1    1869\n",
              "Name: Churn, dtype: int64"
            ]
          },
          "metadata": {},
          "execution_count": 70
        }
      ]
    },
    {
      "cell_type": "code",
      "source": [
        "x=df2_under.drop('Churn',axis=1)\n",
        "y=df2_under['Churn']\n",
        "\n",
        "from sklearn.model_selection import train_test_split\n",
        "x_train,x_test,y_train,y_test = train_test_split(x,y,test_size=.2,random_state=5,stratify =y)\n",
        "\n",
        "log_reg(x_train,y_train,x_test,y_test)"
      ],
      "metadata": {
        "colab": {
          "base_uri": "https://localhost:8080/"
        },
        "id": "xLZatjHAlsPs",
        "outputId": "431997f5-197b-4111-85c9-4151b7394aa4"
      },
      "execution_count": 73,
      "outputs": [
        {
          "output_type": "stream",
          "name": "stdout",
          "text": [
            "Accuracy:  0.7580213903743316 \n",
            "\n",
            "              precision    recall  f1-score   support\n",
            "\n",
            "           0       0.77      0.74      0.75       374\n",
            "           1       0.75      0.77      0.76       374\n",
            "\n",
            "    accuracy                           0.76       748\n",
            "   macro avg       0.76      0.76      0.76       748\n",
            "weighted avg       0.76      0.76      0.76       748\n",
            "\n"
          ]
        }
      ]
    },
    {
      "cell_type": "markdown",
      "source": [
        "***Over Sampling***"
      ],
      "metadata": {
        "id": "-YrSLgLSmH30"
      }
    },
    {
      "cell_type": "code",
      "source": [
        "df2_class1_over = df2_class_1.sample(class_0, replace=True) \n",
        "\n",
        "df2_over = pd.concat([df2_class1_over,df2_class_0],axis=0)\n",
        "\n",
        "df2_over.Churn.value_counts()"
      ],
      "metadata": {
        "colab": {
          "base_uri": "https://localhost:8080/"
        },
        "id": "f3h4Xl0gmMf_",
        "outputId": "c17b5492-e234-4591-cf0b-3b481a95a7a1"
      },
      "execution_count": 75,
      "outputs": [
        {
          "output_type": "execute_result",
          "data": {
            "text/plain": [
              "1    5163\n",
              "0    5163\n",
              "Name: Churn, dtype: int64"
            ]
          },
          "metadata": {},
          "execution_count": 75
        }
      ]
    },
    {
      "cell_type": "code",
      "source": [
        "x=df2_over.drop('Churn',axis=1)\n",
        "y=df2_over['Churn']\n",
        "\n",
        "log_reg(x_train,y_train,x_test,y_test)\n"
      ],
      "metadata": {
        "colab": {
          "base_uri": "https://localhost:8080/"
        },
        "id": "VNh429LXnJPI",
        "outputId": "101cf142-e10a-494b-ff46-386fcf2c314c"
      },
      "execution_count": 76,
      "outputs": [
        {
          "output_type": "stream",
          "name": "stdout",
          "text": [
            "Accuracy:  0.7580213903743316 \n",
            "\n",
            "              precision    recall  f1-score   support\n",
            "\n",
            "           0       0.77      0.74      0.75       374\n",
            "           1       0.75      0.77      0.76       374\n",
            "\n",
            "    accuracy                           0.76       748\n",
            "   macro avg       0.76      0.76      0.76       748\n",
            "weighted avg       0.76      0.76      0.76       748\n",
            "\n"
          ]
        }
      ]
    },
    {
      "cell_type": "markdown",
      "source": [
        "***SMOTE***"
      ],
      "metadata": {
        "id": "AJGklavknZnu"
      }
    },
    {
      "cell_type": "code",
      "source": [
        "from imblearn.over_sampling import SMOTE\n",
        "\n",
        "x= df2.drop('Churn', axis=1)\n",
        "y=df2['Churn']\n",
        "\n",
        "smote = SMOTE(sampling_strategy='minority')\n",
        "x_sm,y_sm = smote.fit_resample(x,y)"
      ],
      "metadata": {
        "id": "5w3nP_EZmMif"
      },
      "execution_count": 81,
      "outputs": []
    },
    {
      "cell_type": "code",
      "source": [
        "y_sm.value_counts()"
      ],
      "metadata": {
        "colab": {
          "base_uri": "https://localhost:8080/"
        },
        "id": "y-B_i8UAmMkr",
        "outputId": "e50074ae-8c74-4f04-9ece-545ce5549fc0"
      },
      "execution_count": 83,
      "outputs": [
        {
          "output_type": "execute_result",
          "data": {
            "text/plain": [
              "0    5163\n",
              "1    5163\n",
              "Name: Churn, dtype: int64"
            ]
          },
          "metadata": {},
          "execution_count": 83
        }
      ]
    },
    {
      "cell_type": "code",
      "source": [
        "from sklearn.model_selection import train_test_split\n",
        "x_train,x_test,y_train,y_test = train_test_split(x,y,test_size=.2,random_state=5,stratify =y)\n"
      ],
      "metadata": {
        "id": "gqp5M1-koXy4"
      },
      "execution_count": 84,
      "outputs": []
    },
    {
      "cell_type": "code",
      "source": [
        "log_reg(x_train,y_train,x_test,y_test)\n"
      ],
      "metadata": {
        "colab": {
          "base_uri": "https://localhost:8080/"
        },
        "id": "vs8KchhpoX9B",
        "outputId": "9b3fac97-52ec-4651-ab38-48ca706bd721"
      },
      "execution_count": 85,
      "outputs": [
        {
          "output_type": "stream",
          "name": "stdout",
          "text": [
            "Accuracy:  0.7846481876332623 \n",
            "\n",
            "              precision    recall  f1-score   support\n",
            "\n",
            "           0       0.83      0.89      0.86      1033\n",
            "           1       0.62      0.50      0.55       374\n",
            "\n",
            "    accuracy                           0.78      1407\n",
            "   macro avg       0.72      0.69      0.71      1407\n",
            "weighted avg       0.77      0.78      0.78      1407\n",
            "\n"
          ]
        },
        {
          "output_type": "stream",
          "name": "stderr",
          "text": [
            "/usr/local/lib/python3.8/dist-packages/sklearn/linear_model/_logistic.py:814: ConvergenceWarning: lbfgs failed to converge (status=1):\n",
            "STOP: TOTAL NO. of ITERATIONS REACHED LIMIT.\n",
            "\n",
            "Increase the number of iterations (max_iter) or scale the data as shown in:\n",
            "    https://scikit-learn.org/stable/modules/preprocessing.html\n",
            "Please also refer to the documentation for alternative solver options:\n",
            "    https://scikit-learn.org/stable/modules/linear_model.html#logistic-regression\n",
            "  n_iter_i = _check_optimize_result(\n"
          ]
        }
      ]
    },
    {
      "cell_type": "markdown",
      "source": [
        "Method4: Use of Ensemble with undersampling\n"
      ],
      "metadata": {
        "id": "8D3kCdjFomrw"
      }
    },
    {
      "cell_type": "code",
      "source": [],
      "metadata": {
        "id": "zDYjS-l8oqD0"
      },
      "execution_count": null,
      "outputs": []
    },
    {
      "cell_type": "code",
      "source": [],
      "metadata": {
        "id": "lLCQ1HTioqF0"
      },
      "execution_count": null,
      "outputs": []
    },
    {
      "cell_type": "code",
      "source": [],
      "metadata": {
        "id": "bQVMWvYeoqIp"
      },
      "execution_count": null,
      "outputs": []
    },
    {
      "cell_type": "code",
      "source": [],
      "metadata": {
        "id": "epMdzxV_oqLg"
      },
      "execution_count": null,
      "outputs": []
    }
  ]
}